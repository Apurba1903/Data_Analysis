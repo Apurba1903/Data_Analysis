{
  "cells": [
    {
      "cell_type": "markdown",
      "metadata": {
        "id": "1-EbgBO3hInD"
      },
      "source": [
        "**Problem:**\n",
        "\n",
        "You are given the following dataset:\n",
        "1. **Audible Data** : https://1drv.ms/u/s!AiqdXCxPTydhoog8ckLN-6Cw55fzIg?e=EWgZ5d\n",
        "\n",
        "Your task is to:\n",
        "- Find the problems with the datasets.\n",
        "- Define the Data Quality Dimensions.\n",
        "- Try to clean the datasets."
      ]
    },
    {
      "cell_type": "markdown",
      "metadata": {},
      "source": [
        "#### Problem with the Dataset:\n",
        "\n",
        "- `name`: \n",
        "    - Some books has the version in different formats.\n",
        "        - [x] with hast-tag like \"Geronimo Stilton #11 & #12\".\n",
        "        - [x] \"Magic Tree House Collection: Books 9-16\".\n",
        "        - [x] \"The 39 Clues, Book 6\"\n",
        "    - â€™, Ã¤, Ã¼ values\n",
        "        - [x] Some rows (9, 34, 157, 162, 170...) have this strange part.\n",
        "\n",
        "\n",
        "- `author` & `narrator`:\n",
        "    - [x] Every value starts with \"Writtenby:\" e.g., \"Writtenby:GeronimoStilton\"\n",
        "    - [x] Some values represent 2 or more authors, e.g., \"Writtenby:JuliaDonaldson,AxelScheffler\"\n",
        "    - [x] Some values also have the strange part, e.g., \"Writtenby:FranciscoDÃ­azValladares\"\n",
        "    - [x] First name and the last are not separated with a white space, e.g. \"Writtenby:NicolasGorny\".\n",
        "    - [x] Some additional informations are also inclused in some values. E.g., \"Writtenby:AndrewPeterson-editor,JonathanRogers,N.D.Wilson,\"\n",
        "    - [x] There are no proper names in narrator, e.g., \"Narratedby:uncredited\".\n",
        "\n",
        "\n",
        "- `time`:\n",
        "    - [x] The values are combination of total hour and minutes, e.g., \"2 hrs and 20 mins\", \"10 hrs\", \"22 mins\"\n",
        "\n",
        "\n",
        "- `releasedate`:\n",
        "    - [x] There are 2 types entries, \"08-04-2008\" and \"13-01-10\"\n",
        "    - [x] The dtype is object, if we convert to datetime object, then the above will be resolved.\n",
        "\n",
        "\n",
        "- `language`\n",
        "    - [x] Some values are in title formed and some are in lower case, e.g. \"English\" and \"german\".\n",
        "\n",
        "\n",
        "- `stars`\n",
        "    - [x] Total ratings informations are included along with average stars, e.g. \"5 out of 5 stars34 ratings\"\n",
        "    - [x] The highest rating is 5 and lower is 1. How many avg. stargs got a book is included as long form.\n",
        "    - [x] Some empty values are represented as \"Not rated yet\". For that, we can assume total ratings = 0 and avg. ratings = 0.\n",
        "\n",
        "\n",
        "- `price`\n",
        "    - [x] There is a value, \"Free\". This also change the dtype of the column."
      ]
    },
    {
      "cell_type": "code",
      "execution_count": 1,
      "metadata": {
        "id": "nxoqZxJMhI_y"
      },
      "outputs": [],
      "source": [
        "import numpy as np\n",
        "import pandas as pd\n",
        "import re"
      ]
    },
    {
      "cell_type": "code",
      "execution_count": 2,
      "metadata": {},
      "outputs": [
        {
          "data": {
            "text/html": [
              "<div>\n",
              "<style scoped>\n",
              "    .dataframe tbody tr th:only-of-type {\n",
              "        vertical-align: middle;\n",
              "    }\n",
              "\n",
              "    .dataframe tbody tr th {\n",
              "        vertical-align: top;\n",
              "    }\n",
              "\n",
              "    .dataframe thead th {\n",
              "        text-align: right;\n",
              "    }\n",
              "</style>\n",
              "<table border=\"1\" class=\"dataframe\">\n",
              "  <thead>\n",
              "    <tr style=\"text-align: right;\">\n",
              "      <th></th>\n",
              "      <th>name</th>\n",
              "      <th>author</th>\n",
              "      <th>narrator</th>\n",
              "      <th>time</th>\n",
              "      <th>releasedate</th>\n",
              "      <th>language</th>\n",
              "      <th>stars</th>\n",
              "      <th>price</th>\n",
              "    </tr>\n",
              "  </thead>\n",
              "  <tbody>\n",
              "    <tr>\n",
              "      <th>0</th>\n",
              "      <td>Geronimo Stilton #11 &amp; #12</td>\n",
              "      <td>Writtenby:GeronimoStilton</td>\n",
              "      <td>Narratedby:BillLobely</td>\n",
              "      <td>2 hrs and 20 mins</td>\n",
              "      <td>04-08-08</td>\n",
              "      <td>English</td>\n",
              "      <td>5 out of 5 stars34 ratings</td>\n",
              "      <td>468.00</td>\n",
              "    </tr>\n",
              "    <tr>\n",
              "      <th>1</th>\n",
              "      <td>The Burning Maze</td>\n",
              "      <td>Writtenby:RickRiordan</td>\n",
              "      <td>Narratedby:RobbieDaymond</td>\n",
              "      <td>13 hrs and 8 mins</td>\n",
              "      <td>01-05-18</td>\n",
              "      <td>English</td>\n",
              "      <td>4.5 out of 5 stars41 ratings</td>\n",
              "      <td>820.00</td>\n",
              "    </tr>\n",
              "    <tr>\n",
              "      <th>2</th>\n",
              "      <td>The Deep End</td>\n",
              "      <td>Writtenby:JeffKinney</td>\n",
              "      <td>Narratedby:DanRussell</td>\n",
              "      <td>2 hrs and 3 mins</td>\n",
              "      <td>06-11-20</td>\n",
              "      <td>English</td>\n",
              "      <td>4.5 out of 5 stars38 ratings</td>\n",
              "      <td>410.00</td>\n",
              "    </tr>\n",
              "    <tr>\n",
              "      <th>3</th>\n",
              "      <td>Daughter of the Deep</td>\n",
              "      <td>Writtenby:RickRiordan</td>\n",
              "      <td>Narratedby:SoneelaNankani</td>\n",
              "      <td>11 hrs and 16 mins</td>\n",
              "      <td>05-10-21</td>\n",
              "      <td>English</td>\n",
              "      <td>4.5 out of 5 stars12 ratings</td>\n",
              "      <td>615.00</td>\n",
              "    </tr>\n",
              "    <tr>\n",
              "      <th>4</th>\n",
              "      <td>The Lightning Thief: Percy Jackson, Book 1</td>\n",
              "      <td>Writtenby:RickRiordan</td>\n",
              "      <td>Narratedby:JesseBernstein</td>\n",
              "      <td>10 hrs</td>\n",
              "      <td>13-01-10</td>\n",
              "      <td>English</td>\n",
              "      <td>4.5 out of 5 stars181 ratings</td>\n",
              "      <td>820.00</td>\n",
              "    </tr>\n",
              "  </tbody>\n",
              "</table>\n",
              "</div>"
            ],
            "text/plain": [
              "                                         name                     author  \\\n",
              "0                  Geronimo Stilton #11 & #12  Writtenby:GeronimoStilton   \n",
              "1                            The Burning Maze      Writtenby:RickRiordan   \n",
              "2                                The Deep End       Writtenby:JeffKinney   \n",
              "3                        Daughter of the Deep      Writtenby:RickRiordan   \n",
              "4  The Lightning Thief: Percy Jackson, Book 1      Writtenby:RickRiordan   \n",
              "\n",
              "                    narrator                time releasedate language  \\\n",
              "0      Narratedby:BillLobely   2 hrs and 20 mins    04-08-08  English   \n",
              "1   Narratedby:RobbieDaymond   13 hrs and 8 mins    01-05-18  English   \n",
              "2      Narratedby:DanRussell    2 hrs and 3 mins    06-11-20  English   \n",
              "3  Narratedby:SoneelaNankani  11 hrs and 16 mins    05-10-21  English   \n",
              "4  Narratedby:JesseBernstein              10 hrs    13-01-10  English   \n",
              "\n",
              "                           stars   price  \n",
              "0     5 out of 5 stars34 ratings  468.00  \n",
              "1   4.5 out of 5 stars41 ratings  820.00  \n",
              "2   4.5 out of 5 stars38 ratings  410.00  \n",
              "3   4.5 out of 5 stars12 ratings  615.00  \n",
              "4  4.5 out of 5 stars181 ratings  820.00  "
            ]
          },
          "execution_count": 2,
          "metadata": {},
          "output_type": "execute_result"
        }
      ],
      "source": [
        "# Importing the Dataset\n",
        "\n",
        "df = pd.read_csv(\"audible_uncleaned.csv\")\n",
        "df.head()"
      ]
    },
    {
      "cell_type": "code",
      "execution_count": 3,
      "metadata": {},
      "outputs": [
        {
          "name": "stdout",
          "output_type": "stream",
          "text": [
            "<class 'pandas.core.frame.DataFrame'>\n",
            "RangeIndex: 87489 entries, 0 to 87488\n",
            "Data columns (total 8 columns):\n",
            " #   Column       Non-Null Count  Dtype \n",
            "---  ------       --------------  ----- \n",
            " 0   name         87489 non-null  object\n",
            " 1   author       87489 non-null  object\n",
            " 2   narrator     87489 non-null  object\n",
            " 3   time         87489 non-null  object\n",
            " 4   releasedate  87489 non-null  object\n",
            " 5   language     87489 non-null  object\n",
            " 6   stars        87489 non-null  object\n",
            " 7   price        87489 non-null  object\n",
            "dtypes: object(8)\n",
            "memory usage: 5.3+ MB\n"
          ]
        }
      ],
      "source": [
        "df.info()"
      ]
    },
    {
      "cell_type": "code",
      "execution_count": 4,
      "metadata": {},
      "outputs": [
        {
          "name": "stderr",
          "output_type": "stream",
          "text": [
            "C:\\Users\\ACER\\AppData\\Local\\Temp\\ipykernel_10064\\4211500471.py:3: UserWarning: Could not infer format, so each element will be parsed individually, falling back to `dateutil`. To ensure parsing is consistent and as-expected, please specify a format.\n",
            "  df['releasedate'] = pd.to_datetime(df['releasedate'])\n"
          ]
        },
        {
          "name": "stdout",
          "output_type": "stream",
          "text": [
            "<class 'pandas.core.frame.DataFrame'>\n",
            "RangeIndex: 87489 entries, 0 to 87488\n",
            "Data columns (total 8 columns):\n",
            " #   Column       Non-Null Count  Dtype         \n",
            "---  ------       --------------  -----         \n",
            " 0   name         87489 non-null  object        \n",
            " 1   author       87489 non-null  object        \n",
            " 2   narrator     87489 non-null  object        \n",
            " 3   time         87489 non-null  object        \n",
            " 4   releasedate  87489 non-null  datetime64[ns]\n",
            " 5   language     87489 non-null  object        \n",
            " 6   stars        87489 non-null  object        \n",
            " 7   price        87489 non-null  object        \n",
            "dtypes: datetime64[ns](1), object(7)\n",
            "memory usage: 5.3+ MB\n"
          ]
        }
      ],
      "source": [
        "# Convert the releasedate columns to DateTime Object\n",
        "\n",
        "df['releasedate'] = pd.to_datetime(df['releasedate'])\n",
        "df.info()"
      ]
    },
    {
      "cell_type": "code",
      "execution_count": 5,
      "metadata": {},
      "outputs": [
        {
          "name": "stdout",
          "output_type": "stream",
          "text": [
            "<class 'pandas.core.frame.DataFrame'>\n",
            "RangeIndex: 87489 entries, 0 to 87488\n",
            "Data columns (total 8 columns):\n",
            " #   Column       Non-Null Count  Dtype         \n",
            "---  ------       --------------  -----         \n",
            " 0   name         87489 non-null  object        \n",
            " 1   author       87489 non-null  object        \n",
            " 2   narrator     87489 non-null  object        \n",
            " 3   time         87489 non-null  object        \n",
            " 4   releasedate  87489 non-null  datetime64[ns]\n",
            " 5   language     87489 non-null  object        \n",
            " 6   stars        87489 non-null  object        \n",
            " 7   price        87151 non-null  float64       \n",
            "dtypes: datetime64[ns](1), float64(1), object(6)\n",
            "memory usage: 5.3+ MB\n"
          ]
        }
      ],
      "source": [
        "# Remove the value from price column.\n",
        "df['price'] = df['price'].replace('Free', 0)  # Removing Free from price column\n",
        "df['price'] = df['price'].str.replace(',', '').astype('float') # Removing , from price column and converting it into float\n",
        "df.info()"
      ]
    },
    {
      "cell_type": "code",
      "execution_count": 6,
      "metadata": {},
      "outputs": [],
      "source": [
        "# Fixing stars columns to separate reviews and stars to two New Columns\n",
        "\n",
        "def find_total_ratings(text):\n",
        "    \n",
        "    \"\"\"\n",
        "    Extracts total ratings count from text containing star ratings.\n",
        "    \n",
        "    Args:\n",
        "        text (str): Input string containing ratings info (e.g., \"4.5 stars 50 ratings\")\n",
        "        \n",
        "    Returns:\n",
        "        int: Total ratings count (0 if not rated or no matches found)\n",
        "    \"\"\"\n",
        "    \n",
        "    # Handle missing values\n",
        "    if pd.isna(text):\n",
        "        return 0  # Changed to 0 for consistency\n",
        "    \n",
        "    # Compile regex pattern for total ratings\n",
        "    total_rating_pattern = re.compile(r\"(\\d+)\\s*ratings\")\n",
        "    \n",
        "    try:\n",
        "        # Case 1: \"Not rated yet\"\n",
        "        if isinstance(text, str) and \"Not rated yet\" in text:\n",
        "            return 0\n",
        "        \n",
        "        # Case 2: Extract Rating Counts\n",
        "        match = total_rating_pattern.search(text)\n",
        "        if match:\n",
        "            return int(match.group(1))\n",
        "        \n",
        "        # Case 3: Return 0 if no pattern matched\n",
        "        return 0\n",
        "        \n",
        "    except Exception as e:\n",
        "        print(f\"Error processing text: {text}. Error: {str(e)}\")\n",
        "        return 0  # Changed to 0 for consistency"
      ]
    },
    {
      "cell_type": "code",
      "execution_count": 7,
      "metadata": {},
      "outputs": [
        {
          "name": "stdout",
          "output_type": "stream",
          "text": [
            "<class 'pandas.core.frame.DataFrame'>\n",
            "RangeIndex: 87489 entries, 0 to 87488\n",
            "Data columns (total 9 columns):\n",
            " #   Column         Non-Null Count  Dtype         \n",
            "---  ------         --------------  -----         \n",
            " 0   name           87489 non-null  object        \n",
            " 1   author         87489 non-null  object        \n",
            " 2   narrator       87489 non-null  object        \n",
            " 3   time           87489 non-null  object        \n",
            " 4   releasedate    87489 non-null  datetime64[ns]\n",
            " 5   language       87489 non-null  object        \n",
            " 6   price          87151 non-null  float64       \n",
            " 7   total_ratings  87489 non-null  int64         \n",
            " 8   avg_stars      87489 non-null  float64       \n",
            "dtypes: datetime64[ns](1), float64(2), int64(1), object(5)\n",
            "memory usage: 6.0+ MB\n"
          ]
        }
      ],
      "source": [
        "# Process ratings data\n",
        "df[\"total_ratings\"] = df[\"stars\"].apply(find_total_ratings).astype(int)  # Added astype(int) to enforce type\n",
        "df[\"avg_stars\"] = df[\"stars\"].apply(\n",
        "    lambda x: float(x.split()[0]) if isinstance(x, str) and x != \"Not rated yet\" else 0.0\n",
        ")\n",
        "\n",
        "# Remove original column\n",
        "df = df.drop(columns=[\"stars\"]).copy()\n",
        "\n",
        "# Checking\n",
        "df.info()"
      ]
    },
    {
      "cell_type": "code",
      "execution_count": 8,
      "metadata": {},
      "outputs": [
        {
          "data": {
            "text/html": [
              "<div>\n",
              "<style scoped>\n",
              "    .dataframe tbody tr th:only-of-type {\n",
              "        vertical-align: middle;\n",
              "    }\n",
              "\n",
              "    .dataframe tbody tr th {\n",
              "        vertical-align: top;\n",
              "    }\n",
              "\n",
              "    .dataframe thead th {\n",
              "        text-align: right;\n",
              "    }\n",
              "</style>\n",
              "<table border=\"1\" class=\"dataframe\">\n",
              "  <thead>\n",
              "    <tr style=\"text-align: right;\">\n",
              "      <th></th>\n",
              "      <th>name</th>\n",
              "      <th>author</th>\n",
              "      <th>narrator</th>\n",
              "      <th>time</th>\n",
              "      <th>releasedate</th>\n",
              "      <th>language</th>\n",
              "      <th>price</th>\n",
              "      <th>total_ratings</th>\n",
              "      <th>avg_stars</th>\n",
              "    </tr>\n",
              "  </thead>\n",
              "  <tbody>\n",
              "    <tr>\n",
              "      <th>0</th>\n",
              "      <td>Geronimo Stilton #11 &amp; #12</td>\n",
              "      <td>Writtenby:GeronimoStilton</td>\n",
              "      <td>Narratedby:BillLobely</td>\n",
              "      <td>2 hrs and 20 mins</td>\n",
              "      <td>2008-04-08</td>\n",
              "      <td>English</td>\n",
              "      <td>468.0</td>\n",
              "      <td>34</td>\n",
              "      <td>5.0</td>\n",
              "    </tr>\n",
              "    <tr>\n",
              "      <th>1</th>\n",
              "      <td>The Burning Maze</td>\n",
              "      <td>Writtenby:RickRiordan</td>\n",
              "      <td>Narratedby:RobbieDaymond</td>\n",
              "      <td>13 hrs and 8 mins</td>\n",
              "      <td>2018-01-05</td>\n",
              "      <td>English</td>\n",
              "      <td>820.0</td>\n",
              "      <td>41</td>\n",
              "      <td>4.5</td>\n",
              "    </tr>\n",
              "    <tr>\n",
              "      <th>2</th>\n",
              "      <td>The Deep End</td>\n",
              "      <td>Writtenby:JeffKinney</td>\n",
              "      <td>Narratedby:DanRussell</td>\n",
              "      <td>2 hrs and 3 mins</td>\n",
              "      <td>2020-06-11</td>\n",
              "      <td>English</td>\n",
              "      <td>410.0</td>\n",
              "      <td>38</td>\n",
              "      <td>4.5</td>\n",
              "    </tr>\n",
              "    <tr>\n",
              "      <th>3</th>\n",
              "      <td>Daughter of the Deep</td>\n",
              "      <td>Writtenby:RickRiordan</td>\n",
              "      <td>Narratedby:SoneelaNankani</td>\n",
              "      <td>11 hrs and 16 mins</td>\n",
              "      <td>2021-05-10</td>\n",
              "      <td>English</td>\n",
              "      <td>615.0</td>\n",
              "      <td>12</td>\n",
              "      <td>4.5</td>\n",
              "    </tr>\n",
              "    <tr>\n",
              "      <th>4</th>\n",
              "      <td>The Lightning Thief: Percy Jackson, Book 1</td>\n",
              "      <td>Writtenby:RickRiordan</td>\n",
              "      <td>Narratedby:JesseBernstein</td>\n",
              "      <td>10 hrs</td>\n",
              "      <td>2010-01-13</td>\n",
              "      <td>English</td>\n",
              "      <td>820.0</td>\n",
              "      <td>181</td>\n",
              "      <td>4.5</td>\n",
              "    </tr>\n",
              "  </tbody>\n",
              "</table>\n",
              "</div>"
            ],
            "text/plain": [
              "                                         name                     author  \\\n",
              "0                  Geronimo Stilton #11 & #12  Writtenby:GeronimoStilton   \n",
              "1                            The Burning Maze      Writtenby:RickRiordan   \n",
              "2                                The Deep End       Writtenby:JeffKinney   \n",
              "3                        Daughter of the Deep      Writtenby:RickRiordan   \n",
              "4  The Lightning Thief: Percy Jackson, Book 1      Writtenby:RickRiordan   \n",
              "\n",
              "                    narrator                time releasedate language  price  \\\n",
              "0      Narratedby:BillLobely   2 hrs and 20 mins  2008-04-08  English  468.0   \n",
              "1   Narratedby:RobbieDaymond   13 hrs and 8 mins  2018-01-05  English  820.0   \n",
              "2      Narratedby:DanRussell    2 hrs and 3 mins  2020-06-11  English  410.0   \n",
              "3  Narratedby:SoneelaNankani  11 hrs and 16 mins  2021-05-10  English  615.0   \n",
              "4  Narratedby:JesseBernstein              10 hrs  2010-01-13  English  820.0   \n",
              "\n",
              "   total_ratings  avg_stars  \n",
              "0             34        5.0  \n",
              "1             41        4.5  \n",
              "2             38        4.5  \n",
              "3             12        4.5  \n",
              "4            181        4.5  "
            ]
          },
          "execution_count": 8,
          "metadata": {},
          "output_type": "execute_result"
        }
      ],
      "source": [
        "# Converting the language column to Titlecase\n",
        "\n",
        "df['language'] = df['language'].str.title()\n",
        "df.head()"
      ]
    },
    {
      "cell_type": "code",
      "execution_count": 9,
      "metadata": {},
      "outputs": [],
      "source": [
        "# Converting time columns to total minutes \n",
        "\n",
        "def get_total_time(text):\n",
        "    \n",
        "    hrs = 0\n",
        "    mins = 0\n",
        "    \n",
        "    # Extract the total Hours\n",
        "    if \"hrs\" in text:\n",
        "        hrs = int(text.split(\"hrs\")[0].strip())\n",
        "        \n",
        "    # Extract the total Minutes\n",
        "    if \"mins\" in text:\n",
        "        is_mins = text.split(\"mins\")[0].split(\" \")\n",
        "        \n",
        "        # If the text is combination of hours and minutes, Then will get more elements\n",
        "        if len(is_mins) > 2:\n",
        "            mins = is_mins[-2]\n",
        "            \n",
        "        # If the text contains only minutes, e.g. \"22 mins\", Then will get 2 length list\n",
        "        else:\n",
        "            mins = is_mins[0]\n",
        "            \n",
        "        mins = int(mins.strip())\n",
        "\n",
        "    # Calculate total minutes and return that\n",
        "    return hrs * 60 + mins"
      ]
    },
    {
      "cell_type": "code",
      "execution_count": 10,
      "metadata": {},
      "outputs": [
        {
          "name": "stdout",
          "output_type": "stream",
          "text": [
            "<class 'pandas.core.frame.DataFrame'>\n",
            "RangeIndex: 87489 entries, 0 to 87488\n",
            "Data columns (total 9 columns):\n",
            " #   Column         Non-Null Count  Dtype         \n",
            "---  ------         --------------  -----         \n",
            " 0   name           87489 non-null  object        \n",
            " 1   author         87489 non-null  object        \n",
            " 2   narrator       87489 non-null  object        \n",
            " 3   time           87489 non-null  int64         \n",
            " 4   releasedate    87489 non-null  datetime64[ns]\n",
            " 5   language       87489 non-null  object        \n",
            " 6   price          87151 non-null  float64       \n",
            " 7   total_ratings  87489 non-null  int64         \n",
            " 8   avg_stars      87489 non-null  float64       \n",
            "dtypes: datetime64[ns](1), float64(2), int64(2), object(4)\n",
            "memory usage: 6.0+ MB\n"
          ]
        }
      ],
      "source": [
        "# Get the total time in minutes\n",
        "\n",
        "df[\"time\"] = df[\"time\"].apply(lambda x: get_total_time(x))\n",
        "df.info()"
      ]
    },
    {
      "cell_type": "code",
      "execution_count": 11,
      "metadata": {},
      "outputs": [
        {
          "data": {
            "text/html": [
              "<div>\n",
              "<style scoped>\n",
              "    .dataframe tbody tr th:only-of-type {\n",
              "        vertical-align: middle;\n",
              "    }\n",
              "\n",
              "    .dataframe tbody tr th {\n",
              "        vertical-align: top;\n",
              "    }\n",
              "\n",
              "    .dataframe thead th {\n",
              "        text-align: right;\n",
              "    }\n",
              "</style>\n",
              "<table border=\"1\" class=\"dataframe\">\n",
              "  <thead>\n",
              "    <tr style=\"text-align: right;\">\n",
              "      <th></th>\n",
              "      <th>name</th>\n",
              "      <th>author</th>\n",
              "      <th>narrator</th>\n",
              "      <th>time</th>\n",
              "      <th>releasedate</th>\n",
              "      <th>language</th>\n",
              "      <th>price</th>\n",
              "      <th>total_ratings</th>\n",
              "      <th>avg_stars</th>\n",
              "    </tr>\n",
              "  </thead>\n",
              "  <tbody>\n",
              "    <tr>\n",
              "      <th>0</th>\n",
              "      <td>Geronimo Stilton #11 &amp; #12</td>\n",
              "      <td>Writtenby:GeronimoStilton</td>\n",
              "      <td>Narratedby:BillLobely</td>\n",
              "      <td>140</td>\n",
              "      <td>2008-04-08</td>\n",
              "      <td>English</td>\n",
              "      <td>468.0</td>\n",
              "      <td>34</td>\n",
              "      <td>5.0</td>\n",
              "    </tr>\n",
              "    <tr>\n",
              "      <th>1</th>\n",
              "      <td>The Burning Maze</td>\n",
              "      <td>Writtenby:RickRiordan</td>\n",
              "      <td>Narratedby:RobbieDaymond</td>\n",
              "      <td>788</td>\n",
              "      <td>2018-01-05</td>\n",
              "      <td>English</td>\n",
              "      <td>820.0</td>\n",
              "      <td>41</td>\n",
              "      <td>4.5</td>\n",
              "    </tr>\n",
              "    <tr>\n",
              "      <th>2</th>\n",
              "      <td>The Deep End</td>\n",
              "      <td>Writtenby:JeffKinney</td>\n",
              "      <td>Narratedby:DanRussell</td>\n",
              "      <td>123</td>\n",
              "      <td>2020-06-11</td>\n",
              "      <td>English</td>\n",
              "      <td>410.0</td>\n",
              "      <td>38</td>\n",
              "      <td>4.5</td>\n",
              "    </tr>\n",
              "    <tr>\n",
              "      <th>3</th>\n",
              "      <td>Daughter of the Deep</td>\n",
              "      <td>Writtenby:RickRiordan</td>\n",
              "      <td>Narratedby:SoneelaNankani</td>\n",
              "      <td>676</td>\n",
              "      <td>2021-05-10</td>\n",
              "      <td>English</td>\n",
              "      <td>615.0</td>\n",
              "      <td>12</td>\n",
              "      <td>4.5</td>\n",
              "    </tr>\n",
              "    <tr>\n",
              "      <th>4</th>\n",
              "      <td>The Lightning Thief: Percy Jackson, Book 1</td>\n",
              "      <td>Writtenby:RickRiordan</td>\n",
              "      <td>Narratedby:JesseBernstein</td>\n",
              "      <td>600</td>\n",
              "      <td>2010-01-13</td>\n",
              "      <td>English</td>\n",
              "      <td>820.0</td>\n",
              "      <td>181</td>\n",
              "      <td>4.5</td>\n",
              "    </tr>\n",
              "  </tbody>\n",
              "</table>\n",
              "</div>"
            ],
            "text/plain": [
              "                                         name                     author  \\\n",
              "0                  Geronimo Stilton #11 & #12  Writtenby:GeronimoStilton   \n",
              "1                            The Burning Maze      Writtenby:RickRiordan   \n",
              "2                                The Deep End       Writtenby:JeffKinney   \n",
              "3                        Daughter of the Deep      Writtenby:RickRiordan   \n",
              "4  The Lightning Thief: Percy Jackson, Book 1      Writtenby:RickRiordan   \n",
              "\n",
              "                    narrator  time releasedate language  price  total_ratings  \\\n",
              "0      Narratedby:BillLobely   140  2008-04-08  English  468.0             34   \n",
              "1   Narratedby:RobbieDaymond   788  2018-01-05  English  820.0             41   \n",
              "2      Narratedby:DanRussell   123  2020-06-11  English  410.0             38   \n",
              "3  Narratedby:SoneelaNankani   676  2021-05-10  English  615.0             12   \n",
              "4  Narratedby:JesseBernstein   600  2010-01-13  English  820.0            181   \n",
              "\n",
              "   avg_stars  \n",
              "0        5.0  \n",
              "1        4.5  \n",
              "2        4.5  \n",
              "3        4.5  \n",
              "4        4.5  "
            ]
          },
          "execution_count": 11,
          "metadata": {},
          "output_type": "execute_result"
        }
      ],
      "source": [
        "df.head()"
      ]
    },
    {
      "cell_type": "code",
      "execution_count": 12,
      "metadata": {},
      "outputs": [],
      "source": [
        "# Remove the strange characters from the \"name\", \"author\" and \"narrator\" cols.\n",
        "\n",
        "\"\"\"\n",
        "When we will do the operation, some values of \"name\" col will become to NaN. So first extract those records which will become to NaN. After removing the strange values, we will replace those newly created NaN values with the old ones\n",
        "\"\"\"\n",
        "\n",
        "nan_created_values = df[df[\"name\"].str.encode('ascii', 'ignore').isnull()]"
      ]
    },
    {
      "cell_type": "code",
      "execution_count": 13,
      "metadata": {},
      "outputs": [
        {
          "data": {
            "text/plain": [
              "'Narratedby:小野田英一'"
            ]
          },
          "execution_count": 13,
          "metadata": {},
          "output_type": "execute_result"
        }
      ],
      "source": [
        "# For Example\n",
        "\"\"\" \n",
        "Some \"narrator\" values are completely packed with strange values like this example. So, while removing this strange values, the clues will convert to empty strings \n",
        "\"\"\"\n",
        "df[\"narrator\"][87192]"
      ]
    },
    {
      "cell_type": "code",
      "execution_count": 14,
      "metadata": {},
      "outputs": [],
      "source": [
        "# Now, Remove the strange parts from the \"name\", \"author\" and \"narrator\" columns\n",
        "\n",
        "df[\"name\"] = df[\"name\"].str.encode('ascii', 'ignore').str.decode('ascii').copy()\n",
        "df[\"author\"] = df[\"author\"].str.encode('ascii', 'ignore').str.decode('ascii').copy()\n",
        "df[\"narrator\"] = df[\"narrator\"].str.encode('ascii', 'ignore').str.decode('ascii').copy()"
      ]
    },
    {
      "cell_type": "code",
      "execution_count": 15,
      "metadata": {},
      "outputs": [
        {
          "data": {
            "text/plain": [
              "'Narratedby:'"
            ]
          },
          "execution_count": 15,
          "metadata": {},
          "output_type": "execute_result"
        }
      ],
      "source": [
        "# Checking\n",
        "\n",
        "df[\"narrator\"][87192]"
      ]
    },
    {
      "cell_type": "code",
      "execution_count": 16,
      "metadata": {},
      "outputs": [
        {
          "data": {
            "text/plain": [
              "name               0\n",
              "author             0\n",
              "narrator           0\n",
              "time               0\n",
              "releasedate        0\n",
              "language           0\n",
              "price            338\n",
              "total_ratings      0\n",
              "avg_stars          0\n",
              "dtype: int64"
            ]
          },
          "execution_count": 16,
          "metadata": {},
          "output_type": "execute_result"
        }
      ],
      "source": [
        "# Checking for Null Value\n",
        "\n",
        "df.isnull().sum()"
      ]
    },
    {
      "cell_type": "code",
      "execution_count": 17,
      "metadata": {},
      "outputs": [],
      "source": [
        "# Now remove the NaN values of the \"name\" column with the old ones\n",
        "\n",
        "for index in nan_created_values.index:\n",
        "    df[\"name\"][index] = nan_created_values[\"name\"][index]"
      ]
    },
    {
      "cell_type": "code",
      "execution_count": 18,
      "metadata": {},
      "outputs": [
        {
          "data": {
            "text/plain": [
              "name               0\n",
              "author             0\n",
              "narrator           0\n",
              "time               0\n",
              "releasedate        0\n",
              "language           0\n",
              "price            338\n",
              "total_ratings      0\n",
              "avg_stars          0\n",
              "dtype: int64"
            ]
          },
          "execution_count": 18,
          "metadata": {},
          "output_type": "execute_result"
        }
      ],
      "source": [
        "# Checking for Null Value\n",
        "\n",
        "df.isnull().sum()"
      ]
    },
    {
      "cell_type": "code",
      "execution_count": 19,
      "metadata": {},
      "outputs": [
        {
          "data": {
            "text/plain": [
              "name             0\n",
              "author           0\n",
              "narrator         0\n",
              "time             0\n",
              "releasedate      0\n",
              "language         0\n",
              "price            0\n",
              "total_ratings    0\n",
              "avg_stars        0\n",
              "dtype: int64"
            ]
          },
          "execution_count": 19,
          "metadata": {},
          "output_type": "execute_result"
        }
      ],
      "source": [
        "# Replace NaN values in price column with 0\n",
        "\n",
        "df['price'] = df['price'].replace(np.nan, 0)\n",
        "df.isnull().sum()"
      ]
    },
    {
      "cell_type": "code",
      "execution_count": 20,
      "metadata": {},
      "outputs": [],
      "source": [
        "\"\"\"\n",
        "Again NaN values will be created when you will gp to remove the versions from the \"name\" col.\n",
        "So, again will be same strategy, first will store those records which will become to NaN.\n",
        "After the operation, we will replace those NaN values with the old ones\n",
        "\"\"\"\n",
        "\n",
        "nan_books_version = df[df[\"name\"].str.replace(r\"(\\s#?\\d+\\s?(&|and)?\\s?#?(\\d+)?)|(:?,?\\sBooks?\\s\\d+\\s?-?(\\d+)?)\", \"\").isnull()]"
      ]
    },
    {
      "cell_type": "code",
      "execution_count": 21,
      "metadata": {},
      "outputs": [],
      "source": [
        "# Remove the versions from the \"name\"\n",
        "\n",
        "df[\"name\"] = df[\"name\"].str.replace(r\"(\\s#?\\d+\\s?(&|and)?\\s?#?(\\d+)?)|(:?,?\\sBooks?\\s\\d+\\s?-?(\\d+)?)\", \"\").copy()"
      ]
    },
    {
      "cell_type": "code",
      "execution_count": 22,
      "metadata": {},
      "outputs": [
        {
          "data": {
            "text/plain": [
              "name             0\n",
              "author           0\n",
              "narrator         0\n",
              "time             0\n",
              "releasedate      0\n",
              "language         0\n",
              "price            0\n",
              "total_ratings    0\n",
              "avg_stars        0\n",
              "dtype: int64"
            ]
          },
          "execution_count": 22,
          "metadata": {},
          "output_type": "execute_result"
        }
      ],
      "source": [
        "df.isnull().sum()"
      ]
    },
    {
      "cell_type": "code",
      "execution_count": 23,
      "metadata": {},
      "outputs": [],
      "source": [
        "# restoring the old names\n",
        "\n",
        "for index in nan_books_version.index:\n",
        "    df[\"name\"][index] = nan_books_version[\"name\"][index]"
      ]
    },
    {
      "cell_type": "code",
      "execution_count": 24,
      "metadata": {},
      "outputs": [
        {
          "data": {
            "text/plain": [
              "name             0\n",
              "author           0\n",
              "narrator         0\n",
              "time             0\n",
              "releasedate      0\n",
              "language         0\n",
              "price            0\n",
              "total_ratings    0\n",
              "avg_stars        0\n",
              "dtype: int64"
            ]
          },
          "execution_count": 24,
          "metadata": {},
          "output_type": "execute_result"
        }
      ],
      "source": [
        "df.isnull().sum()"
      ]
    },
    {
      "cell_type": "code",
      "execution_count": 25,
      "metadata": {},
      "outputs": [],
      "source": [
        "# Remove prefix \"Writtenby:\" & \"Narratedby:\" from \"author\" & \"narrator\" columns\n",
        "\n",
        "df[\"narrator\"] = df[\"narrator\"].str.replace(\"Narratedby:\", \"\")\n",
        "df[\"author\"]   = df[\"author\"].str.replace(\"Writtenby:\", \"\")"
      ]
    },
    {
      "cell_type": "code",
      "execution_count": 26,
      "metadata": {},
      "outputs": [],
      "source": [
        "# Replace the \"uncredited\" from the \"narrator\" col with NaN value\n",
        "\n",
        "df[\"narrator\"] = df[\"narrator\"].replace(\"uncredited\", np.nan)"
      ]
    },
    {
      "cell_type": "code",
      "execution_count": 27,
      "metadata": {},
      "outputs": [],
      "source": [
        "# Split those values which have 2 or more author or narrator\n",
        "\n",
        "df[\"author\"] = df[\"author\"].apply(lambda x: x.split(\",\") if \",\" in x else [x])\n",
        "df[\"narrator\"] = df[\"narrator\"].apply(lambda x: x if pd.isna(x) else x.split(\",\") if \",\" in x else [x])"
      ]
    },
    {
      "cell_type": "code",
      "execution_count": 28,
      "metadata": {},
      "outputs": [
        {
          "data": {
            "text/plain": [
              "name               0\n",
              "author             0\n",
              "narrator         326\n",
              "time               0\n",
              "releasedate        0\n",
              "language           0\n",
              "price              0\n",
              "total_ratings      0\n",
              "avg_stars          0\n",
              "dtype: int64"
            ]
          },
          "execution_count": 28,
          "metadata": {},
          "output_type": "execute_result"
        }
      ],
      "source": [
        "df.isnull().sum()"
      ]
    },
    {
      "cell_type": "code",
      "execution_count": 29,
      "metadata": {},
      "outputs": [],
      "source": [
        "\"\"\"\n",
        "Remove the more information from the \"author\" col because most of the values has no such info. Also, while modifying this col before, some blank strings (e.g. record no. 77) created. That strings will be removed here. Also, here will separate the first name and the last names. Previously those are not separated with a white space.\n",
        "\"\"\"\n",
        "\n",
        "def separate_first_last_name(text):\n",
        "    \n",
        "    # Create the regex Pattern\n",
        "    pattern = re.compile(r\"[A-Z]+[a-z]+\")\n",
        "    \n",
        "    # Join the first & last name with a white space and return it\n",
        "    return \" \".join(re.findall(pattern, text))\n",
        "\n",
        "\n",
        "def remove_more_info(text_list: list):\n",
        "    \n",
        "    if type(text_list) != list and pd.isna(text_list):\n",
        "        return text_list\n",
        "\n",
        "    # Create the re pattern to remove the more info\n",
        "    pattern = re.compile(r\"-\\w+\")\n",
        "    result = []\n",
        "\n",
        "    # Loop through the each values\n",
        "    for item in text_list:\n",
        "        \n",
        "        # Remove the empty string\n",
        "        if len(item) != 0:\n",
        "            \n",
        "            # Remove the more info\n",
        "            re_result = re.sub(pattern, \"\", item)\n",
        "            \n",
        "            # Separate the first and the last name\n",
        "            result.append(separate_first_last_name(re_result))\n",
        "    \n",
        "    # If the result list is empty, then return NaN or return as it is\n",
        "    return np.nan if len(result) <= 0 else result"
      ]
    },
    {
      "cell_type": "code",
      "execution_count": 30,
      "metadata": {},
      "outputs": [],
      "source": [
        "df[\"author\"]   = df[\"author\"].apply(lambda x: remove_more_info(x))\n",
        "df[\"narrator\"] = df[\"narrator\"].apply(lambda x: remove_more_info(x))"
      ]
    },
    {
      "cell_type": "code",
      "execution_count": 31,
      "metadata": {},
      "outputs": [
        {
          "data": {
            "text/html": [
              "<div>\n",
              "<style scoped>\n",
              "    .dataframe tbody tr th:only-of-type {\n",
              "        vertical-align: middle;\n",
              "    }\n",
              "\n",
              "    .dataframe tbody tr th {\n",
              "        vertical-align: top;\n",
              "    }\n",
              "\n",
              "    .dataframe thead th {\n",
              "        text-align: right;\n",
              "    }\n",
              "</style>\n",
              "<table border=\"1\" class=\"dataframe\">\n",
              "  <thead>\n",
              "    <tr style=\"text-align: right;\">\n",
              "      <th></th>\n",
              "      <th>name</th>\n",
              "      <th>author</th>\n",
              "      <th>narrator</th>\n",
              "      <th>time</th>\n",
              "      <th>releasedate</th>\n",
              "      <th>language</th>\n",
              "      <th>price</th>\n",
              "      <th>total_ratings</th>\n",
              "      <th>avg_stars</th>\n",
              "    </tr>\n",
              "  </thead>\n",
              "  <tbody>\n",
              "    <tr>\n",
              "      <th>0</th>\n",
              "      <td>Geronimo Stilton #11 &amp; #12</td>\n",
              "      <td>[Geronimo Stilton]</td>\n",
              "      <td>[Bill Lobely]</td>\n",
              "      <td>140</td>\n",
              "      <td>2008-04-08</td>\n",
              "      <td>English</td>\n",
              "      <td>468.0</td>\n",
              "      <td>34</td>\n",
              "      <td>5.0</td>\n",
              "    </tr>\n",
              "    <tr>\n",
              "      <th>1</th>\n",
              "      <td>The Burning Maze</td>\n",
              "      <td>[Rick Riordan]</td>\n",
              "      <td>[Robbie Daymond]</td>\n",
              "      <td>788</td>\n",
              "      <td>2018-01-05</td>\n",
              "      <td>English</td>\n",
              "      <td>820.0</td>\n",
              "      <td>41</td>\n",
              "      <td>4.5</td>\n",
              "    </tr>\n",
              "    <tr>\n",
              "      <th>2</th>\n",
              "      <td>The Deep End</td>\n",
              "      <td>[Jeff Kinney]</td>\n",
              "      <td>[Dan Russell]</td>\n",
              "      <td>123</td>\n",
              "      <td>2020-06-11</td>\n",
              "      <td>English</td>\n",
              "      <td>410.0</td>\n",
              "      <td>38</td>\n",
              "      <td>4.5</td>\n",
              "    </tr>\n",
              "    <tr>\n",
              "      <th>3</th>\n",
              "      <td>Daughter of the Deep</td>\n",
              "      <td>[Rick Riordan]</td>\n",
              "      <td>[Soneela Nankani]</td>\n",
              "      <td>676</td>\n",
              "      <td>2021-05-10</td>\n",
              "      <td>English</td>\n",
              "      <td>615.0</td>\n",
              "      <td>12</td>\n",
              "      <td>4.5</td>\n",
              "    </tr>\n",
              "    <tr>\n",
              "      <th>4</th>\n",
              "      <td>The Lightning Thief: Percy Jackson, Book 1</td>\n",
              "      <td>[Rick Riordan]</td>\n",
              "      <td>[Jesse Bernstein]</td>\n",
              "      <td>600</td>\n",
              "      <td>2010-01-13</td>\n",
              "      <td>English</td>\n",
              "      <td>820.0</td>\n",
              "      <td>181</td>\n",
              "      <td>4.5</td>\n",
              "    </tr>\n",
              "  </tbody>\n",
              "</table>\n",
              "</div>"
            ],
            "text/plain": [
              "                                         name              author  \\\n",
              "0                  Geronimo Stilton #11 & #12  [Geronimo Stilton]   \n",
              "1                            The Burning Maze      [Rick Riordan]   \n",
              "2                                The Deep End       [Jeff Kinney]   \n",
              "3                        Daughter of the Deep      [Rick Riordan]   \n",
              "4  The Lightning Thief: Percy Jackson, Book 1      [Rick Riordan]   \n",
              "\n",
              "            narrator  time releasedate language  price  total_ratings  \\\n",
              "0      [Bill Lobely]   140  2008-04-08  English  468.0             34   \n",
              "1   [Robbie Daymond]   788  2018-01-05  English  820.0             41   \n",
              "2      [Dan Russell]   123  2020-06-11  English  410.0             38   \n",
              "3  [Soneela Nankani]   676  2021-05-10  English  615.0             12   \n",
              "4  [Jesse Bernstein]   600  2010-01-13  English  820.0            181   \n",
              "\n",
              "   avg_stars  \n",
              "0        5.0  \n",
              "1        4.5  \n",
              "2        4.5  \n",
              "3        4.5  \n",
              "4        4.5  "
            ]
          },
          "execution_count": 31,
          "metadata": {},
          "output_type": "execute_result"
        }
      ],
      "source": [
        "df.head()"
      ]
    },
    {
      "cell_type": "code",
      "execution_count": 32,
      "metadata": {},
      "outputs": [
        {
          "name": "stdout",
          "output_type": "stream",
          "text": [
            "<class 'pandas.core.frame.DataFrame'>\n",
            "RangeIndex: 87489 entries, 0 to 87488\n",
            "Data columns (total 9 columns):\n",
            " #   Column         Non-Null Count  Dtype         \n",
            "---  ------         --------------  -----         \n",
            " 0   name           87489 non-null  object        \n",
            " 1   author         84180 non-null  object        \n",
            " 2   narrator       83421 non-null  object        \n",
            " 3   time           87489 non-null  int64         \n",
            " 4   releasedate    87489 non-null  datetime64[ns]\n",
            " 5   language       87489 non-null  object        \n",
            " 6   price          87489 non-null  float64       \n",
            " 7   total_ratings  87489 non-null  int64         \n",
            " 8   avg_stars      87489 non-null  float64       \n",
            "dtypes: datetime64[ns](1), float64(2), int64(2), object(4)\n",
            "memory usage: 6.0+ MB\n"
          ]
        }
      ],
      "source": [
        "df.info()"
      ]
    },
    {
      "cell_type": "code",
      "execution_count": 33,
      "metadata": {},
      "outputs": [],
      "source": [
        "\"\"\"\n",
        "For now it is done. For further use or analysis, you have to save the cleaned dataframe. We will not use the csv format to save because it takes more disk space and also the csv file can't retain the dtypes of the features of your dataframe. So you can store this file in one of these file formats: pickle, feather and parquet. Here I am using the pickle format.\n",
        "\"\"\"\n",
        "\n",
        "df.to_pickle(\"audible_cleaned.pickle\")"
      ]
    },
    {
      "cell_type": "code",
      "execution_count": 34,
      "metadata": {},
      "outputs": [
        {
          "data": {
            "text/html": [
              "<div>\n",
              "<style scoped>\n",
              "    .dataframe tbody tr th:only-of-type {\n",
              "        vertical-align: middle;\n",
              "    }\n",
              "\n",
              "    .dataframe tbody tr th {\n",
              "        vertical-align: top;\n",
              "    }\n",
              "\n",
              "    .dataframe thead th {\n",
              "        text-align: right;\n",
              "    }\n",
              "</style>\n",
              "<table border=\"1\" class=\"dataframe\">\n",
              "  <thead>\n",
              "    <tr style=\"text-align: right;\">\n",
              "      <th></th>\n",
              "      <th>name</th>\n",
              "      <th>author</th>\n",
              "      <th>narrator</th>\n",
              "      <th>time</th>\n",
              "      <th>releasedate</th>\n",
              "      <th>language</th>\n",
              "      <th>price</th>\n",
              "      <th>total_ratings</th>\n",
              "      <th>avg_stars</th>\n",
              "    </tr>\n",
              "  </thead>\n",
              "  <tbody>\n",
              "    <tr>\n",
              "      <th>0</th>\n",
              "      <td>Geronimo Stilton #11 &amp; #12</td>\n",
              "      <td>[Geronimo Stilton]</td>\n",
              "      <td>[Bill Lobely]</td>\n",
              "      <td>140</td>\n",
              "      <td>2008-04-08</td>\n",
              "      <td>English</td>\n",
              "      <td>468.0</td>\n",
              "      <td>34</td>\n",
              "      <td>5.0</td>\n",
              "    </tr>\n",
              "    <tr>\n",
              "      <th>1</th>\n",
              "      <td>The Burning Maze</td>\n",
              "      <td>[Rick Riordan]</td>\n",
              "      <td>[Robbie Daymond]</td>\n",
              "      <td>788</td>\n",
              "      <td>2018-01-05</td>\n",
              "      <td>English</td>\n",
              "      <td>820.0</td>\n",
              "      <td>41</td>\n",
              "      <td>4.5</td>\n",
              "    </tr>\n",
              "    <tr>\n",
              "      <th>2</th>\n",
              "      <td>The Deep End</td>\n",
              "      <td>[Jeff Kinney]</td>\n",
              "      <td>[Dan Russell]</td>\n",
              "      <td>123</td>\n",
              "      <td>2020-06-11</td>\n",
              "      <td>English</td>\n",
              "      <td>410.0</td>\n",
              "      <td>38</td>\n",
              "      <td>4.5</td>\n",
              "    </tr>\n",
              "    <tr>\n",
              "      <th>3</th>\n",
              "      <td>Daughter of the Deep</td>\n",
              "      <td>[Rick Riordan]</td>\n",
              "      <td>[Soneela Nankani]</td>\n",
              "      <td>676</td>\n",
              "      <td>2021-05-10</td>\n",
              "      <td>English</td>\n",
              "      <td>615.0</td>\n",
              "      <td>12</td>\n",
              "      <td>4.5</td>\n",
              "    </tr>\n",
              "    <tr>\n",
              "      <th>4</th>\n",
              "      <td>The Lightning Thief: Percy Jackson, Book 1</td>\n",
              "      <td>[Rick Riordan]</td>\n",
              "      <td>[Jesse Bernstein]</td>\n",
              "      <td>600</td>\n",
              "      <td>2010-01-13</td>\n",
              "      <td>English</td>\n",
              "      <td>820.0</td>\n",
              "      <td>181</td>\n",
              "      <td>4.5</td>\n",
              "    </tr>\n",
              "  </tbody>\n",
              "</table>\n",
              "</div>"
            ],
            "text/plain": [
              "                                         name              author  \\\n",
              "0                  Geronimo Stilton #11 & #12  [Geronimo Stilton]   \n",
              "1                            The Burning Maze      [Rick Riordan]   \n",
              "2                                The Deep End       [Jeff Kinney]   \n",
              "3                        Daughter of the Deep      [Rick Riordan]   \n",
              "4  The Lightning Thief: Percy Jackson, Book 1      [Rick Riordan]   \n",
              "\n",
              "            narrator  time releasedate language  price  total_ratings  \\\n",
              "0      [Bill Lobely]   140  2008-04-08  English  468.0             34   \n",
              "1   [Robbie Daymond]   788  2018-01-05  English  820.0             41   \n",
              "2      [Dan Russell]   123  2020-06-11  English  410.0             38   \n",
              "3  [Soneela Nankani]   676  2021-05-10  English  615.0             12   \n",
              "4  [Jesse Bernstein]   600  2010-01-13  English  820.0            181   \n",
              "\n",
              "   avg_stars  \n",
              "0        5.0  \n",
              "1        4.5  \n",
              "2        4.5  \n",
              "3        4.5  \n",
              "4        4.5  "
            ]
          },
          "execution_count": 34,
          "metadata": {},
          "output_type": "execute_result"
        }
      ],
      "source": [
        "# Below syntax is to read the pickle file in Pandas.\n",
        "\n",
        "pd.read_pickle(\"audible_cleaned.pickle\").head()"
      ]
    }
  ],
  "metadata": {
    "colab": {
      "provenance": []
    },
    "kernelspec": {
      "display_name": "Python 3",
      "name": "python3"
    },
    "language_info": {
      "codemirror_mode": {
        "name": "ipython",
        "version": 3
      },
      "file_extension": ".py",
      "mimetype": "text/x-python",
      "name": "python",
      "nbconvert_exporter": "python",
      "pygments_lexer": "ipython3",
      "version": "3.11.9"
    }
  },
  "nbformat": 4,
  "nbformat_minor": 0
}
