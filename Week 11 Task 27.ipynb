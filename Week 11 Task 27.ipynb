{
  "cells": [
    {
      "cell_type": "code",
      "execution_count": 41,
      "metadata": {
        "id": "cY_pbpMg8T2g"
      },
      "outputs": [],
      "source": [
        "import pandas as pd\n",
        "import pymysql\n",
        "import requests\n",
        "import time\n",
        "from io import StringIO\n",
        "from sqlalchemy import create_engine"
      ]
    },
    {
      "cell_type": "markdown",
      "metadata": {
        "id": "REyPSoAX8YRm"
      },
      "source": [
        "### Problem-1:\n",
        "\n",
        "You are given a SQL file link: https://drive.google.com/file/d/1WFt7B84LTHhMueoKmz8W-PRo7xXqmZf3/view?usp=share_link. Read the data by using the file and store it in a excel file. In this data, there are 3 tables named \"invoices\", \"order_leads\" and \"sales_sql\". So create 3 sheets to your excel file."
      ]
    },
    {
      "cell_type": "code",
      "execution_count": null,
      "metadata": {
        "id": "CjgZ3pDV8Xza"
      },
      "outputs": [],
      "source": [
        "# Code Here\n",
        "\n",
        "import mysql.connector\n",
        "\n",
        "conn = mysql.connector.connect(host=\"localhost\", user=\"root\", password=\"\", database=\"temp_db\")\n",
        "\n",
        "invoices = pd.read_sql_query('SELECT * FROM invoices', conn)\n",
        "order_leads = pd.read_sql_query('SELECT * FROM order_leads', conn)\n",
        "sales_sql = pd.read_sql_query('SELECT * FROM sales_sql', conn)\n",
        "\n",
        "\n",
        "with pd.ExcelWriter('SuperMarket.xlsx') as writer:\n",
        "    invoices.to_excel(writer, sheet_name='invoices')\n",
        "    order_leads.to_excel(writer, sheet_name='order_leads')\n",
        "    sales_sql.to_excel(writer, sheet_name='sales_sql')"
      ]
    },
    {
      "cell_type": "markdown",
      "metadata": {
        "id": "ixwn5tD08dDV"
      },
      "source": [
        "### Problem-2\n",
        "\n",
        "Go to the site: https://rapidapi.com/wirefreethought/api/geodb-cities. From here, you have to grab the API and have to choose proper routes to get the cities of different countries. After getting the right API, hit that API and create a dataframe of all the cities that you can get by using the API. Then store the dataframe to a SQL. If you need to create an account or have to subscribe, then do that (it has free subscription but has some limitations. Use that free subscription and modify your accordingly to get all the data).  "
      ]
    },
    {
      "cell_type": "code",
      "execution_count": 31,
      "metadata": {
        "id": "OMTekidj8eDA"
      },
      "outputs": [],
      "source": [
        "# Code Here\n",
        "\n",
        "url = \"https://wft-geo-db.p.rapidapi.com/v1/geo/adminDivisions\"\n",
        "\n",
        "headers = {\n",
        "\t\"X-RapidAPI-Key\": \"8813f81427msh110825a259e2b2dp1ac084jsnbea18cba81a8\",\n",
        "\t\"X-RapidAPI-Host\": \"wft-geo-db.p.rapidapi.com\"\n",
        "}\n",
        "\n",
        "response = requests.request(\"GET\" ,url, headers=headers)\n",
        "\n",
        "data = response.json()['data']\n",
        "links = response.json()['links']\n",
        "metadata = response.json()['metadata']"
      ]
    },
    {
      "cell_type": "code",
      "execution_count": 32,
      "metadata": {},
      "outputs": [],
      "source": [
        "next_url = links[1]['href']"
      ]
    },
    {
      "cell_type": "code",
      "execution_count": 33,
      "metadata": {},
      "outputs": [],
      "source": [
        "count = metadata['totalCount']//5"
      ]
    },
    {
      "cell_type": "code",
      "execution_count": null,
      "metadata": {},
      "outputs": [
        {
          "name": "stdout",
          "output_type": "stream",
          "text": [
            "{'links': [{'rel': 'first', 'href': '/v1/geo/adminDivisions?offset=0&limit=5'}, {'rel': 'prev', 'href': '/v1/geo/adminDivisions?offset=50&limit=5'}, {'rel': 'next', 'href': '/v1/geo/adminDivisions?offset=60&limit=5'}, {'rel': 'last', 'href': '/v1/geo/adminDivisions?offset=63365&limit=5'}], 'data': [{'id': 3249002, 'wikiDataId': 'Q1059332', 'name': 'Chaki Wardak', 'country': 'Afghanistan', 'countryCode': 'AF', 'region': 'Maidan Wardak', 'regionCode': 'WAR', 'regionWdId': 'Q183056', 'latitude': 34.108555555, 'longitude': 68.579775, 'population': 0}, {'id': 3292111, 'wikiDataId': 'Q3309261', 'name': 'Chal', 'country': 'Afghanistan', 'countryCode': 'AF', 'region': 'Takhar', 'regionCode': 'TAK', 'regionWdId': 'Q186395', 'latitude': 36.4975, 'longitude': 69.559166666, 'population': 0}, {'id': 3369921, 'wikiDataId': 'Q798508', 'name': 'Chapa Dara', 'country': 'Afghanistan', 'countryCode': 'AF', 'region': 'Kunar', 'regionCode': 'KNR', 'regionWdId': 'Q188147', 'latitude': 34.982777777, 'longitude': 70.599444444, 'population': 0}, {'id': 3299563, 'wikiDataId': 'Q3694378', 'name': 'Chaparhar', 'country': 'Afghanistan', 'countryCode': 'AF', 'region': 'Nangarhar', 'regionCode': 'NAN', 'regionWdId': 'Q178471', 'latitude': 34.32215, 'longitude': 70.385284, 'population': 0}, {'id': 3225466, 'wikiDataId': 'Q2673902', 'name': 'Char Asiab', 'country': 'Afghanistan', 'countryCode': 'AF', 'region': 'Kabul', 'regionCode': 'KAB', 'regionWdId': 'Q188933', 'latitude': 34.387222222, 'longitude': 69.072777777, 'population': 0}], 'metadata': {'currentOffset': 55, 'totalCount': 63368}}\n",
            "{'links': [{'rel': 'first', 'href': '/v1/geo/adminDivisions?offset=0&limit=5'}, {'rel': 'prev', 'href': '/v1/geo/adminDivisions?offset=55&limit=5'}, {'rel': 'next', 'href': '/v1/geo/adminDivisions?offset=65&limit=5'}, {'rel': 'last', 'href': '/v1/geo/adminDivisions?offset=63365&limit=5'}], 'data': [{'id': 3615249, 'wikiDataId': 'Q1062874', 'name': 'Char Dara', 'country': 'Afghanistan', 'countryCode': 'AF', 'region': 'Kunduz', 'regionCode': 'KDZ', 'regionWdId': 'Q186418', 'latitude': 36.6933, 'longitude': 68.8014, 'population': 0}, {'id': 3318372, 'wikiDataId': 'Q3694342', 'name': 'Charbolak', 'country': 'Afghanistan', 'countryCode': 'AF', 'region': 'Balkh', 'regionCode': 'BAL', 'regionWdId': 'Q121104', 'latitude': 36.833333333, 'longitude': 66.639444444, 'population': 91539}, {'id': 3402650, 'wikiDataId': 'Q2215285', 'name': 'Charkh District', 'country': 'Afghanistan', 'countryCode': 'AF', 'region': 'Logar', 'regionCode': 'LOG', 'regionWdId': 'Q6667298', 'latitude': 33.7967, 'longitude': 68.9411, 'population': 0}, {'id': 3238990, 'wikiDataId': 'Q3694271', 'name': 'Charkint', 'country': 'Afghanistan', 'countryCode': 'AF', 'region': 'Balkh', 'regionCode': 'BAL', 'regionWdId': 'Q121104', 'latitude': 36.367777777, 'longitude': 67.240277777, 'population': 0}, {'id': 3319664, 'wikiDataId': 'Q4816628', 'name': 'Charsadda District', 'country': 'Afghanistan', 'countryCode': 'AF', 'region': 'Ghōr', 'regionCode': 'GHO', 'regionWdId': 'Q186392', 'latitude': 35.119444444, 'longitude': 65.117777777, 'population': 0}], 'metadata': {'currentOffset': 60, 'totalCount': 63368}}\n",
            "{'links': [{'rel': 'first', 'href': '/v1/geo/adminDivisions?offset=0&limit=5'}, {'rel': 'prev', 'href': '/v1/geo/adminDivisions?offset=60&limit=5'}, {'rel': 'next', 'href': '/v1/geo/adminDivisions?offset=70&limit=5'}, {'rel': 'last', 'href': '/v1/geo/adminDivisions?offset=63365&limit=5'}], 'data': [{'id': 3215411, 'wikiDataId': 'Q2665173', 'name': 'Chawkay', 'country': 'Afghanistan', 'countryCode': 'AF', 'region': 'Kunar', 'regionCode': 'KNR', 'regionWdId': 'Q188147', 'latitude': 34.6961, 'longitude': 70.9247, 'population': 0}, {'id': 3337594, 'wikiDataId': 'Q3694243', 'name': 'Chimtal', 'country': 'Afghanistan', 'countryCode': 'AF', 'region': 'Balkh', 'regionCode': 'BAL', 'regionWdId': 'Q121104', 'latitude': 36.517777777, 'longitude': 66.600833333, 'population': 103630}, {'id': 3337032, 'wikiDataId': 'Q3696177', 'name': 'Chishti Sharif District', 'country': 'Afghanistan', 'countryCode': 'AF', 'region': 'Herat Province', 'regionCode': 'HER', 'regionWdId': 'Q182844', 'latitude': 34.445277777, 'longitude': 63.957222222, 'population': 0}, {'id': 3370077, 'wikiDataId': 'Q4808942', 'name': 'Dahana i Ghuri', 'country': 'Afghanistan', 'countryCode': 'AF', 'region': 'Baghlan', 'regionCode': 'BGL', 'regionWdId': 'Q170309', 'latitude': 35.823055555, 'longitude': 68.458333333, 'population': 0}, {'id': 3346874, 'wikiDataId': 'Q3012608', 'name': 'Daman District', 'country': 'Afghanistan', 'countryCode': 'AF', 'region': 'Kandahar', 'regionCode': 'KAN', 'regionWdId': 'Q173808', 'latitude': 31.220555555, 'longitude': 65.749722222, 'population': 0}], 'metadata': {'currentOffset': 65, 'totalCount': 63368}}\n",
            "{'links': [{'rel': 'first', 'href': '/v1/geo/adminDivisions?offset=0&limit=5'}, {'rel': 'prev', 'href': '/v1/geo/adminDivisions?offset=65&limit=5'}, {'rel': 'next', 'href': '/v1/geo/adminDivisions?offset=75&limit=5'}, {'rel': 'last', 'href': '/v1/geo/adminDivisions?offset=63365&limit=5'}], 'data': [{'id': 3318181, 'wikiDataId': 'Q2705706', 'name': 'Dand Aw Patan District', 'country': 'Afghanistan', 'countryCode': 'AF', 'region': 'Paktia Zurmat', 'regionCode': 'PIA', 'regionWdId': 'Q182493', 'latitude': 33.791666666, 'longitude': 69.910833333, 'population': 0}, {'id': 3214790, 'wikiDataId': 'Q2663252', 'name': 'Dangam', 'country': 'Afghanistan', 'countryCode': 'AF', 'region': 'Kunar', 'regionCode': 'KNR', 'regionWdId': 'Q188147', 'latitude': 34.9925, 'longitude': 71.4189, 'population': 0}, {'id': 3410839, 'wikiDataId': 'Q3696140', 'name': 'Dara-I-Nur', 'country': 'Afghanistan', 'countryCode': 'AF', 'region': 'Nangarhar', 'regionCode': 'NAN', 'regionWdId': 'Q178471', 'latitude': 34.706666666, 'longitude': 70.585833333, 'population': 0}, {'id': 3325693, 'wikiDataId': 'Q2663248', 'name': 'Dara-I-Pech', 'country': 'Afghanistan', 'countryCode': 'AF', 'region': 'Kunar', 'regionCode': 'KNR', 'regionWdId': 'Q188147', 'latitude': 34.954444444, 'longitude': 70.816944444, 'population': 0}, {'id': 3259363, 'wikiDataId': 'Q13217376', 'name': 'Darah Sof Balla', 'country': 'Afghanistan', 'countryCode': 'AF', 'region': 'Samangan', 'regionCode': 'SAM', 'regionWdId': 'Q183015', 'latitude': 35.680833333, 'longitude': 67.2825, 'population': 0}], 'metadata': {'currentOffset': 70, 'totalCount': 63368}}\n",
            "{'links': [{'rel': 'first', 'href': '/v1/geo/adminDivisions?offset=0&limit=5'}, {'rel': 'prev', 'href': '/v1/geo/adminDivisions?offset=70&limit=5'}, {'rel': 'next', 'href': '/v1/geo/adminDivisions?offset=80&limit=5'}, {'rel': 'last', 'href': '/v1/geo/adminDivisions?offset=63365&limit=5'}], 'data': [{'id': 3387562, 'wikiDataId': 'Q13217378', 'name': 'Darah Sof Payan', 'country': 'Afghanistan', 'countryCode': 'AF', 'region': 'Samangan', 'regionCode': 'SAM', 'regionWdId': 'Q183015', 'latitude': 36.025, 'longitude': 67.347222222, 'population': 0}, {'id': 3415211, 'wikiDataId': 'Q5222045', 'name': 'Darah district', 'country': 'Afghanistan', 'countryCode': 'AF', 'region': 'Panjshir', 'regionCode': 'PAN', 'regionWdId': 'Q181235', 'latitude': 32.9188, 'longitude': 67.3147, 'population': 0}, {'id': 3268965, 'wikiDataId': 'Q2670900', 'name': 'Darayim District', 'country': 'Afghanistan', 'countryCode': 'AF', 'region': 'Badakhshan', 'regionCode': 'BDS', 'regionWdId': 'Q165376', 'latitude': 36.8725, 'longitude': 70.46861111, 'population': 0}, {'id': 3392384, 'wikiDataId': 'Q3918446', 'name': 'Darqad', 'country': 'Afghanistan', 'countryCode': 'AF', 'region': 'Takhar', 'regionCode': 'TAK', 'regionWdId': 'Q186395', 'latitude': 37.45379, 'longitude': 69.49901, 'population': 0}, {'id': 3668653, 'wikiDataId': 'Q2673995', 'name': 'Darwaz', 'country': 'Afghanistan', 'countryCode': 'AF', 'region': 'Badakhshan', 'regionCode': 'BDS', 'regionWdId': 'Q165376', 'latitude': 38.227777777, 'longitude': 70.911388888, 'population': 0}], 'metadata': {'currentOffset': 75, 'totalCount': 63368}}\n",
            "{'links': [{'rel': 'first', 'href': '/v1/geo/adminDivisions?offset=0&limit=5'}, {'rel': 'prev', 'href': '/v1/geo/adminDivisions?offset=75&limit=5'}, {'rel': 'next', 'href': '/v1/geo/adminDivisions?offset=85&limit=5'}, {'rel': 'last', 'href': '/v1/geo/adminDivisions?offset=63365&limit=5'}], 'data': [{'id': 3431156, 'wikiDataId': 'Q950043', 'name': 'Darwazi Bala', 'country': 'Afghanistan', 'countryCode': 'AF', 'region': 'Badakhshan', 'regionCode': 'BDS', 'regionWdId': 'Q165376', 'latitude': 38.128333333, 'longitude': 71.225, 'population': 0}, {'id': 3365353, 'wikiDataId': 'Q3694393', 'name': 'Darzab', 'country': 'Afghanistan', 'countryCode': 'AF', 'region': 'Jowzjan', 'regionCode': 'JOW', 'regionWdId': 'Q183036', 'latitude': 36.004444444, 'longitude': 65.372777777, 'population': 0}, {'id': 3393231, 'wikiDataId': 'Q2214871', 'name': 'Dashti Qala', 'country': 'Afghanistan', 'countryCode': 'AF', 'region': 'Takhar', 'regionCode': 'TAK', 'regionWdId': 'Q186395', 'latitude': 37.202222222, 'longitude': 69.501666666, 'population': 35347}, {'id': 3285213, 'wikiDataId': 'Q3696057', 'name': 'Dawlat Abad', 'country': 'Afghanistan', 'countryCode': 'AF', 'region': 'Faryab', 'regionCode': 'FYB', 'regionWdId': 'Q173830', 'latitude': 36.421388888, 'longitude': 64.896944444, 'population': 0}, {'id': 3284596, 'wikiDataId': 'Q5242376', 'name': 'Dawlat Shah', 'country': 'Afghanistan', 'countryCode': 'AF', 'region': 'Laghman', 'regionCode': 'LAG', 'regionWdId': 'Q185442', 'latitude': 34.9528, 'longitude': 70.07, 'population': 0}], 'metadata': {'currentOffset': 80, 'totalCount': 63368}}\n",
            "{'links': [{'rel': 'first', 'href': '/v1/geo/adminDivisions?offset=0&limit=5'}, {'rel': 'prev', 'href': '/v1/geo/adminDivisions?offset=80&limit=5'}, {'rel': 'next', 'href': '/v1/geo/adminDivisions?offset=90&limit=5'}, {'rel': 'last', 'href': '/v1/geo/adminDivisions?offset=63365&limit=5'}], 'data': [{'id': 3335089, 'wikiDataId': 'Q2714244', 'name': 'Dawlat Yar District', 'country': 'Afghanistan', 'countryCode': 'AF', 'region': 'Ghōr', 'regionCode': 'GHO', 'regionWdId': 'Q186392', 'latitude': 34.580277777, 'longitude': 65.751388888, 'population': 0}, {'id': 3354497, 'wikiDataId': 'Q960735', 'name': 'Dawlatabad', 'country': 'Afghanistan', 'countryCode': 'AF', 'region': 'Balkh', 'regionCode': 'BAL', 'regionWdId': 'Q121104', 'latitude': 37.064166666, 'longitude': 66.798055555, 'population': 0}, {'id': 3467202, 'wikiDataId': 'Q3309249', 'name': 'Day Mirdad', 'country': 'Afghanistan', 'countryCode': 'AF', 'region': 'Maidan Wardak', 'regionCode': 'WAR', 'regionWdId': 'Q183056', 'latitude': 34.2164, 'longitude': 68.2952, 'population': 0}, {'id': 3421391, 'wikiDataId': 'Q1183073', 'name': 'Deh Rahwod District', 'country': 'Afghanistan', 'countryCode': 'AF', 'region': 'Urozgan', 'regionCode': 'URU', 'regionWdId': 'Q183028', 'latitude': 32.62638889, 'longitude': 65.47027778, 'population': 0}, {'id': 3211907, 'wikiDataId': 'Q3769083', 'name': 'Deh Sabz', 'country': 'Afghanistan', 'countryCode': 'AF', 'region': 'Kabul', 'regionCode': 'KAB', 'regionWdId': 'Q188933', 'latitude': 34.753513, 'longitude': 69.267269, 'population': 0}], 'metadata': {'currentOffset': 85, 'totalCount': 63368}}\n",
            "{'links': [{'rel': 'first', 'href': '/v1/geo/adminDivisions?offset=0&limit=5'}, {'rel': 'prev', 'href': '/v1/geo/adminDivisions?offset=85&limit=5'}, {'rel': 'next', 'href': '/v1/geo/adminDivisions?offset=95&limit=5'}, {'rel': 'last', 'href': '/v1/geo/adminDivisions?offset=63365&limit=5'}], 'data': [{'id': 3424073, 'wikiDataId': 'Q1647702', 'name': 'Dey Chopan District', 'country': 'Afghanistan', 'countryCode': 'AF', 'region': 'Zabul', 'regionCode': 'ZAB', 'regionWdId': 'Q139126', 'latitude': 32.613333333, 'longitude': 66.691111111, 'population': 0}, {'id': 3372572, 'wikiDataId': 'Q429594', 'name': 'Dih Yak District', 'country': 'Afghanistan', 'countryCode': 'AF', 'region': 'Ghazni', 'regionCode': 'GHA', 'regionWdId': 'Q180415', 'latitude': 33.476413, 'longitude': 68.763027, 'population': 0}, {'id': 3340800, 'wikiDataId': 'Q5276655', 'name': 'Dila District', 'country': 'Afghanistan', 'countryCode': 'AF', 'region': 'Paktika', 'regionCode': 'PKA', 'regionWdId': 'Q185575', 'latitude': 32.56376, 'longitude': 68.13115, 'population': 0}, {'id': 3380146, 'wikiDataId': 'Q2456306', 'name': 'Dishu District', 'country': 'Afghanistan', 'countryCode': 'AF', 'region': 'Helmand', 'regionCode': 'HEL', 'regionWdId': 'Q173821', 'latitude': 29.879166666, 'longitude': 63.174444444, 'population': 0}, {'id': 3368268, 'wikiDataId': 'Q3696107', 'name': 'Du Ab', 'country': 'Afghanistan', 'countryCode': 'AF', 'region': 'Nuristan', 'regionCode': 'NUR', 'regionWdId': 'Q167485', 'latitude': 35.213888888, 'longitude': 70.373333333, 'population': 0}], 'metadata': {'currentOffset': 90, 'totalCount': 63368}}\n",
            "{'links': [{'rel': 'first', 'href': '/v1/geo/adminDivisions?offset=0&limit=5'}, {'rel': 'prev', 'href': '/v1/geo/adminDivisions?offset=90&limit=5'}, {'rel': 'next', 'href': '/v1/geo/adminDivisions?offset=100&limit=5'}, {'rel': 'last', 'href': '/v1/geo/adminDivisions?offset=63365&limit=5'}], 'data': [{'id': 3281448, 'wikiDataId': 'Q2714251', 'name': 'Du Layna District', 'country': 'Afghanistan', 'countryCode': 'AF', 'region': 'Ghōr', 'regionCode': 'GHO', 'regionWdId': 'Q186392', 'latitude': 34.118611111, 'longitude': 65.008055555, 'population': 0}, {'id': 3250390, 'wikiDataId': 'Q2217855', 'name': 'Dur Baba', 'country': 'Afghanistan', 'countryCode': 'AF', 'region': 'Nangarhar', 'regionCode': 'NAN', 'regionWdId': 'Q178471', 'latitude': 34.098055555, 'longitude': 70.963055555, 'population': 0}, {'id': 3016076, 'wikiDataId': 'Q3694442', 'name': 'Dushi', 'country': 'Afghanistan', 'countryCode': 'AF', 'region': 'Baghlan', 'regionCode': 'BGL', 'regionWdId': 'Q170309', 'latitude': 35.620833333, 'longitude': 68.665833333, 'population': 57000}, {'id': 3277202, 'wikiDataId': 'Q2399439', 'name': 'Farah City District', 'country': 'Afghanistan', 'countryCode': 'AF', 'region': 'Farah', 'regionCode': 'FRA', 'regionWdId': 'Q180330', 'latitude': 32.21768, 'longitude': 62.25992, 'population': 0}, {'id': 3257051, 'wikiDataId': 'Q5434830', 'name': 'Farang Wa Gharu', 'country': 'Afghanistan', 'countryCode': 'AF', 'region': 'Baghlan', 'regionCode': 'BGL', 'regionWdId': 'Q170309', 'latitude': 36.136944444, 'longitude': 69.681388888, 'population': 0}], 'metadata': {'currentOffset': 95, 'totalCount': 63368}}\n",
            "{'links': [{'rel': 'first', 'href': '/v1/geo/adminDivisions?offset=0&limit=5'}, {'rel': 'prev', 'href': '/v1/geo/adminDivisions?offset=95&limit=5'}, {'rel': 'next', 'href': '/v1/geo/adminDivisions?offset=105&limit=5'}, {'rel': 'last', 'href': '/v1/geo/adminDivisions?offset=63365&limit=5'}], 'data': [{'id': 3415170, 'wikiDataId': 'Q3918453', 'name': 'Farkhar', 'country': 'Afghanistan', 'countryCode': 'AF', 'region': 'Takhar', 'regionCode': 'TAK', 'regionWdId': 'Q186395', 'latitude': 36.47, 'longitude': 69.960833333, 'population': 0}, {'id': 3384461, 'wikiDataId': 'Q2714318', 'name': 'Farsi District', 'country': 'Afghanistan', 'countryCode': 'AF', 'region': 'Herat Province', 'regionCode': 'HER', 'regionWdId': 'Q182844', 'latitude': 33.6974, 'longitude': 63.0921, 'population': 0}, {'id': 3211064, 'wikiDataId': 'Q3918456', 'name': 'Farza', 'country': 'Afghanistan', 'countryCode': 'AF', 'region': 'Kabul', 'regionCode': 'KAB', 'regionWdId': 'Q188933', 'latitude': 34.793888888, 'longitude': 69.017777777, 'population': 0}, {'id': 3282674, 'wikiDataId': 'Q2887829', 'name': 'Fayzabad District', 'country': 'Afghanistan', 'countryCode': 'AF', 'region': 'Badakhshan', 'regionCode': 'BDS', 'regionWdId': 'Q165376', 'latitude': 37.05083333, 'longitude': 70.57972222, 'population': 0}, {'id': 3295692, 'wikiDataId': 'Q3504927', 'name': 'Fayzabad District', 'country': 'Afghanistan', 'countryCode': 'AF', 'region': 'Jowzjan', 'regionCode': 'JOW', 'regionWdId': 'Q183036', 'latitude': 36.704444444, 'longitude': 66.329722222, 'population': 0}], 'metadata': {'currentOffset': 100, 'totalCount': 63368}}\n"
          ]
        }
      ],
      "source": [
        "for i in range(1,11):    \n",
        "    \n",
        "    url = \"https://wft-geo-db.p.rapidapi.com\"\n",
        "    page = url + next_url\n",
        "    \n",
        "    response = requests.request(\"GET\" ,page, headers=headers)\n",
        "    \n",
        "    links = response.json()['links']\n",
        "    \n",
        "    for item in links:\n",
        "        if item['rel'] == 'next':\n",
        "            next_url = item['href']\n",
        "    \n",
        "    data.extend(response.json()['data'])\n",
        "    \n",
        "    time.sleep(2)"
      ]
    },
    {
      "cell_type": "code",
      "execution_count": 37,
      "metadata": {},
      "outputs": [
        {
          "data": {
            "text/plain": [
              "105"
            ]
          },
          "execution_count": 37,
          "metadata": {},
          "output_type": "execute_result"
        }
      ],
      "source": [
        "len(data)"
      ]
    },
    {
      "cell_type": "code",
      "execution_count": 39,
      "metadata": {},
      "outputs": [],
      "source": [
        "cities = pd.DataFrame(data)"
      ]
    },
    {
      "cell_type": "code",
      "execution_count": 42,
      "metadata": {},
      "outputs": [
        {
          "data": {
            "text/plain": [
              "105"
            ]
          },
          "execution_count": 42,
          "metadata": {},
          "output_type": "execute_result"
        }
      ],
      "source": [
        "engine = create_engine(\"mysql+pymysql://root:@localhost/cities\")\n",
        "\n",
        "cities.to_sql(\"cities\", con=engine, if_exists='append')"
      ]
    },
    {
      "cell_type": "markdown",
      "metadata": {
        "id": "V514SPZd8f63"
      },
      "source": [
        "### Problem 3:\n",
        "\n",
        "Go to this url: https://www.flipkart.com/search?q=smartphones. This is the url to find phones in flipkart website. You have to extract the below things:\n",
        "1. image url of the phone\n",
        "2. name of the image\n",
        "3. average ratings\n",
        "4. total ratings\n",
        "5. total reviews\n",
        "6. discounted price\n",
        "7. actual price\n",
        "\n",
        "Extract all the phones which are available in this website. So you have to use the pagination concept. **Also after requesting every page through the url, please wait for a while (minimum 2-3 seconds), otherwise your IP address can be banned to access the flipkart website later.**\n",
        "\n",
        "After collecting all the data, save that in a JSON file."
      ]
    },
    {
      "cell_type": "code",
      "execution_count": 104,
      "metadata": {
        "id": "FGFT4kap8iwT"
      },
      "outputs": [],
      "source": [
        "# Code Here\n",
        "\n",
        "import time\n",
        "import numpy as np\n",
        "import pandas as pd\n",
        "from bs4 import BeautifulSoup\n",
        "from selenium import webdriver"
      ]
    },
    {
      "cell_type": "code",
      "execution_count": 105,
      "metadata": {},
      "outputs": [],
      "source": [
        "driver = webdriver.Chrome()\n",
        "driver.maximize_window()"
      ]
    },
    {
      "cell_type": "code",
      "execution_count": 110,
      "metadata": {},
      "outputs": [],
      "source": [
        "final_df = pd.DataFrame()\n",
        "\n",
        "for i in range(1,6):\n",
        "    \n",
        "    driver.get(\"https://www.flipkart.com/search?q=smartphones&page={}\".format(i))\n",
        "\n",
        "    webpage = driver.page_source\n",
        "\n",
        "    soup = BeautifulSoup(webpage, 'lxml')\n",
        "\n",
        "    all_divs = soup.find_all('div', class_=\"tUxRFH\")\n",
        "    \n",
        "    \n",
        "    phone_image_url = []\n",
        "    phone_name = []\n",
        "    phone_rating = []\n",
        "    total_rating = []\n",
        "    total_review = []\n",
        "    discount_price = []\n",
        "    actual_price = []\n",
        "\n",
        "    for phone in all_divs:\n",
        "        \n",
        "        try:\n",
        "            phone_image_url.append(phone.find('img', class_='DByuf4')['src'])\n",
        "            phone_name.append(phone.find('div', class_='KzDlHZ').text.strip())\n",
        "            phone_rating.append(phone.find('div', class_='XQDdHH').text.strip())\n",
        "            total_rating.append(phone.find_all('span', class_='Wphh3N')[0].find_all('span')[0].find_all('span')[0].text.strip())\n",
        "            total_review.append(phone.find_all('span', class_='Wphh3N')[0].find_all('span')[0].find_all('span')[2].text.strip())\n",
        "            discount_price.append(phone.find('div', class_='Nx9bqj _4b5DiR').text.strip())\n",
        "            actual_price.append(phone.find('div', class_='yRaY8j ZYYwLA').text.strip())\n",
        "            \n",
        "        except:\n",
        "            phone_image_url.append(np.nan)\n",
        "            phone_name.append(np.nan)\n",
        "            phone_rating.append(np.nan)\n",
        "            total_rating.append(np.nan)\n",
        "            total_review.append(np.nan)\n",
        "            discount_price.append(np.nan)\n",
        "            actual_price.append(np.nan)\n",
        "\n",
        "    df = pd.DataFrame({\n",
        "        'phone_name': phone_name,\n",
        "        'discount_price': discount_price,\n",
        "        'actual_price': actual_price,\n",
        "        'phone_rating': phone_rating,\n",
        "        'phone_image_url': phone_image_url,\n",
        "        'total_rating': total_rating,\n",
        "        'total_review': total_review,\n",
        "    })\n",
        "    \n",
        "    final_df = pd.concat([final_df, df], ignore_index=True)\n",
        "    \n",
        "    phone_image_url.clear()\n",
        "    phone_name.clear()\n",
        "    phone_rating.clear()\n",
        "    total_rating.clear()\n",
        "    total_review.clear()\n",
        "    discount_price.clear()\n",
        "    actual_price.clear()\n",
        "    \n",
        "    time.sleep(2)"
      ]
    },
    {
      "cell_type": "code",
      "execution_count": 111,
      "metadata": {},
      "outputs": [
        {
          "data": {
            "text/plain": [
              "(120, 7)"
            ]
          },
          "execution_count": 111,
          "metadata": {},
          "output_type": "execute_result"
        }
      ],
      "source": [
        "final_df.shape"
      ]
    }
  ],
  "metadata": {
    "colab": {
      "provenance": []
    },
    "kernelspec": {
      "display_name": "Python 3",
      "name": "python3"
    },
    "language_info": {
      "codemirror_mode": {
        "name": "ipython",
        "version": 3
      },
      "file_extension": ".py",
      "mimetype": "text/x-python",
      "name": "python",
      "nbconvert_exporter": "python",
      "pygments_lexer": "ipython3",
      "version": "3.11.9"
    }
  },
  "nbformat": 4,
  "nbformat_minor": 0
}
